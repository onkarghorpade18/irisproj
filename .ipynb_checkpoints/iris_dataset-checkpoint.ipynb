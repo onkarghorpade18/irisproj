{
 "cells": [
  {
   "cell_type": "code",
   "execution_count": null,
   "id": "a49f964c",
   "metadata": {},
   "outputs": [],
   "source": [
    "# Problem Statement: Finding the class of iris flower using logistic classification algorithm."
   ]
  },
  {
   "cell_type": "code",
   "execution_count": null,
   "id": "936b31fd",
   "metadata": {},
   "outputs": [],
   "source": [
    "# Data collection:"
   ]
  },
  {
   "cell_type": "code",
   "execution_count": null,
   "id": "4c0bd542",
   "metadata": {},
   "outputs": [],
   "source": [
    "import numpy as np\n",
    "import pandas as pd"
   ]
  },
  {
   "cell_type": "code",
   "execution_count": null,
   "id": "7b8bc9e5",
   "metadata": {},
   "outputs": [],
   "source": [
    "import warnings\n",
    "warnings.filterwarnings(\"ignore\")"
   ]
  },
  {
   "cell_type": "code",
   "execution_count": null,
   "id": "34e46eef",
   "metadata": {},
   "outputs": [],
   "source": [
    "df = pd.read_csv(\"Iris.csv\")\n",
    "df"
   ]
  },
  {
   "cell_type": "code",
   "execution_count": null,
   "id": "a4eafc2c",
   "metadata": {},
   "outputs": [],
   "source": [
    "df.drop('Id', axis= 1, inplace=True)"
   ]
  },
  {
   "cell_type": "markdown",
   "id": "e5581fce",
   "metadata": {},
   "source": [
    "# Exploratory Data Analysis"
   ]
  },
  {
   "cell_type": "code",
   "execution_count": null,
   "id": "3bbfeaf8",
   "metadata": {},
   "outputs": [],
   "source": [
    "df.info()"
   ]
  },
  {
   "cell_type": "code",
   "execution_count": null,
   "id": "39338019",
   "metadata": {},
   "outputs": [],
   "source": [
    "y=df['Species']\n",
    "y.value_counts()"
   ]
  },
  {
   "cell_type": "code",
   "execution_count": null,
   "id": "33416138",
   "metadata": {},
   "outputs": [],
   "source": [
    "x=df.drop(\"Species\",axis=1,inplace=True)\n",
    "x"
   ]
  },
  {
   "cell_type": "code",
   "execution_count": null,
   "id": "589ab344",
   "metadata": {},
   "outputs": [],
   "source": [
    "df.isna().sum()"
   ]
  },
  {
   "cell_type": "code",
   "execution_count": null,
   "id": "b9c0ca7a",
   "metadata": {},
   "outputs": [],
   "source": [
    "import seaborn as sns\n",
    "import matplotlib.pyplot as plt\n",
    "df.boxplot()\n",
    "plt.show()"
   ]
  },
  {
   "cell_type": "markdown",
   "id": "09a0c69b",
   "metadata": {},
   "source": [
    "# Feature Engineering"
   ]
  },
  {
   "cell_type": "code",
   "execution_count": null,
   "id": "0ba1142f",
   "metadata": {},
   "outputs": [],
   "source": [
    "df.columns "
   ]
  },
  {
   "cell_type": "markdown",
   "id": "1e802412",
   "metadata": {},
   "source": [
    "####  SepalWidthCm"
   ]
  },
  {
   "cell_type": "code",
   "execution_count": null,
   "id": "b6fb9693",
   "metadata": {},
   "outputs": [],
   "source": [
    "df.boxplot(\"SepalWidthCm\")\n",
    "plt.show()"
   ]
  },
  {
   "cell_type": "code",
   "execution_count": null,
   "id": "c40846d9",
   "metadata": {},
   "outputs": [],
   "source": [
    "q1 = df['SepalWidthCm'].quantile(0.25)\n",
    "q2 = df['SepalWidthCm'].quantile(0.50)\n",
    "q3 = df['SepalWidthCm'].quantile(0.75)\n",
    "iqr = q3 - q1\n",
    "upper_tail = q3 + 1.5 * iqr\n",
    "lower_tail = q1 - 1.5 * iqr\n",
    "median=df['SepalWidthCm'].median()\n",
    "print(\"median : \",median)\n",
    "print(\"upper_tail :\", upper_tail)\n",
    "print(\"lower_tail :\", lower_tail)"
   ]
  },
  {
   "cell_type": "code",
   "execution_count": null,
   "id": "5eebc21c",
   "metadata": {},
   "outputs": [],
   "source": [
    "df[[\"SepalWidthCm\"]].loc[df[\"SepalWidthCm\"]<lower_tail]"
   ]
  },
  {
   "cell_type": "code",
   "execution_count": null,
   "id": "01532cd0",
   "metadata": {},
   "outputs": [],
   "source": [
    "df[[\"SepalWidthCm\"]].loc[df[\"SepalWidthCm\"]>upper_tail]"
   ]
  },
  {
   "cell_type": "code",
   "execution_count": null,
   "id": "3e271bf4",
   "metadata": {},
   "outputs": [],
   "source": [
    "df.loc[(df['SepalWidthCm'] > upper_tail),'SepalWidthCm']  = upper_tail"
   ]
  },
  {
   "cell_type": "code",
   "execution_count": null,
   "id": "d568706e",
   "metadata": {},
   "outputs": [],
   "source": [
    "df.loc[(df['SepalWidthCm'] < lower_tail),'SepalWidthCm'] = lower_tail"
   ]
  },
  {
   "cell_type": "code",
   "execution_count": null,
   "id": "8207b52c",
   "metadata": {},
   "outputs": [],
   "source": [
    "df.boxplot(\"SepalWidthCm\")\n",
    "plt.show()"
   ]
  },
  {
   "cell_type": "markdown",
   "id": "70cc8bc6",
   "metadata": {},
   "source": [
    "# Model Building"
   ]
  },
  {
   "cell_type": "code",
   "execution_count": null,
   "id": "01c4b468",
   "metadata": {},
   "outputs": [],
   "source": [
    "x=df\n",
    "x.info()"
   ]
  },
  {
   "cell_type": "code",
   "execution_count": null,
   "id": "1067450b",
   "metadata": {},
   "outputs": [],
   "source": [
    "y.info()"
   ]
  },
  {
   "cell_type": "code",
   "execution_count": null,
   "id": "5c2754c2",
   "metadata": {},
   "outputs": [],
   "source": [
    "from sklearn.linear_model import LogisticRegression\n",
    "from sklearn.model_selection import train_test_split"
   ]
  },
  {
   "cell_type": "code",
   "execution_count": null,
   "id": "6bf9af73",
   "metadata": {},
   "outputs": [],
   "source": [
    "x_train,x_test,y_train,y_test =  train_test_split(x,y, test_size=0.3, random_state= 10, stratify=y)"
   ]
  },
  {
   "cell_type": "code",
   "execution_count": null,
   "id": "d0ad7385",
   "metadata": {},
   "outputs": [],
   "source": [
    "logistic_model = LogisticRegression(multi_class= 'ovr')\n",
    "logistic_model.fit(x_train, y_train)"
   ]
  },
  {
   "cell_type": "markdown",
   "id": "f85e2516",
   "metadata": {},
   "source": [
    "# Model Evaluation"
   ]
  },
  {
   "cell_type": "code",
   "execution_count": null,
   "id": "ca05b30d",
   "metadata": {},
   "outputs": [],
   "source": [
    "from sklearn.metrics import accuracy_score, precision_score, recall_score, f1_score   #OR\n",
    "from sklearn.metrics import classification_report, confusion_matrix, multilabel_confusion_matrix\n",
    "\n",
    "from sklearn.metrics import plot_confusion_matrix\n",
    "from sklearn.metrics import roc_curve\n",
    "from sklearn.metrics import auc"
   ]
  },
  {
   "cell_type": "code",
   "execution_count": null,
   "id": "9ccc0c54",
   "metadata": {},
   "outputs": [],
   "source": [
    "# Training dataset\n",
    "y_pred_train = logistic_model.predict(x_train)\n",
    "\n",
    "cnf_matrix = confusion_matrix(y_train, y_pred_train)\n",
    "print(\"Confusion Matrix:\\n\", cnf_matrix)\n",
    "print(\"*\"*50)\n",
    "\n",
    "multi_cnf_matrix = multilabel_confusion_matrix(y_train, y_pred_train)\n",
    "print(\"Multilabel Confusion Matrix\\n\",multi_cnf_matrix)\n",
    "print(\"*\"*50)\n",
    "\n",
    "accuracy = accuracy_score(y_train, y_pred_train)\n",
    "print(\"Accuracy on trainin data: \",accuracy)\n",
    "print(\"*\"*50)\n",
    "\n",
    "clf_report = classification_report(y_train, y_pred_train)\n",
    "print(\"Classification Report:\\n\",clf_report)"
   ]
  },
  {
   "cell_type": "code",
   "execution_count": null,
   "id": "6a9a41b2",
   "metadata": {},
   "outputs": [],
   "source": [
    "# Testing Accuracy\n",
    "y_pred = logistic_model.predict(x_test)\n",
    "\n",
    "cnf_matrix = confusion_matrix(y_test, y_pred)\n",
    "print(\"Confusion Matrix:\\n\", cnf_matrix)\n",
    "print(\"*\"*50)\n",
    "\n",
    "multi_cnf_matrix = multilabel_confusion_matrix(y_test, y_pred)\n",
    "print(\"Multilabel COnfusion Matrix\\n\",multi_cnf_matrix)\n",
    "print(\"*\"*50)\n",
    "\n",
    "accuracy = accuracy_score(y_test, y_pred)\n",
    "print(\"Accuracy: \",accuracy)\n",
    "print(\"*\"*50)\n",
    "\n",
    "clf_report = classification_report(y_test, y_pred)\n",
    "print(\"Classification Report:\\n\",clf_report)"
   ]
  },
  {
   "cell_type": "markdown",
   "id": "587df6d1",
   "metadata": {},
   "source": [
    "## Singal user input"
   ]
  },
  {
   "cell_type": "code",
   "execution_count": null,
   "id": "5164c181",
   "metadata": {},
   "outputs": [],
   "source": [
    "x.head().T"
   ]
  },
  {
   "cell_type": "code",
   "execution_count": null,
   "id": "4ce77d39",
   "metadata": {},
   "outputs": [],
   "source": [
    "column_names = x.columns\n",
    "column_names"
   ]
  },
  {
   "cell_type": "code",
   "execution_count": null,
   "id": "4b061417",
   "metadata": {},
   "outputs": [],
   "source": [
    "SepalLengthCm = 4.7\n",
    "SepalWidthCm = 3.2\n",
    "PetalLengthCm = 1.3\n",
    "PetalWidthCm = 0.2"
   ]
  },
  {
   "cell_type": "code",
   "execution_count": null,
   "id": "db9bb66b",
   "metadata": {},
   "outputs": [],
   "source": [
    "json_data = {\"column_names\":list(column_names)}"
   ]
  },
  {
   "cell_type": "code",
   "execution_count": null,
   "id": "6e164028",
   "metadata": {},
   "outputs": [],
   "source": [
    "with open(\"iris.json\", \"w\") as f:\n",
    "    json.dump(json_data, f)"
   ]
  },
  {
   "cell_type": "code",
   "execution_count": null,
   "id": "364b136b",
   "metadata": {},
   "outputs": [],
   "source": [
    "with open(\"iris.pkl\", \"wb\") as f:\n",
    "    pickle.dump(logistic_model, f) "
   ]
  },
  {
   "cell_type": "code",
   "execution_count": null,
   "id": "e95d657a",
   "metadata": {},
   "outputs": [],
   "source": [
    "test_array = np.zeros(len(x.columns))  \n",
    "\n",
    "test_array[0] = SepalLengthCm\n",
    "test_array[1] = SepalWidthCm\n",
    "test_array[2] = PetalLengthCm\n",
    "test_array[3] = PetalWidthCm\n",
    "test_array"
   ]
  },
  {
   "cell_type": "code",
   "execution_count": null,
   "id": "5070fd28",
   "metadata": {},
   "outputs": [],
   "source": [
    "prediction = logistic_model.predict([test_array])[0]\n",
    "prediction "
   ]
  },
  {
   "cell_type": "code",
   "execution_count": null,
   "id": "c94ac63e",
   "metadata": {},
   "outputs": [],
   "source": []
  },
  {
   "cell_type": "code",
   "execution_count": null,
   "id": "4dbe0fa9",
   "metadata": {},
   "outputs": [],
   "source": []
  }
 ],
 "metadata": {
  "kernelspec": {
   "display_name": "Python 3 (ipykernel)",
   "language": "python",
   "name": "python3"
  },
  "language_info": {
   "codemirror_mode": {
    "name": "ipython",
    "version": 3
   },
   "file_extension": ".py",
   "mimetype": "text/x-python",
   "name": "python",
   "nbconvert_exporter": "python",
   "pygments_lexer": "ipython3",
   "version": "3.10.9"
  }
 },
 "nbformat": 4,
 "nbformat_minor": 5
}
